{
 "cells": [
  {
   "cell_type": "markdown",
   "id": "1d848a0c",
   "metadata": {},
   "source": [
    "1.Explain what inheritance is in object-oriented programming and why it is used?\n",
    "\n",
    "Ans: Inheritance is basically an object oriented programming concept.In this new classes are created from the existing classes the existing class is called as parent class and the new class is called as the chiled or derived class.\n",
    "Inheritance allows the feature of code reusability and inheritance has a greate importance in object oriented programming.\n",
    "\n",
    "example:\n",
    "class A:\n",
    "    def __init__(self,name,age):\n",
    "        self.name=name\n",
    "        self.age=age\n",
    "    def subject(self):\n",
    "        print(\"the major subject is datascience\")\n",
    "class B(A):\n",
    "    def __init__(self,id,no):\n",
    "        self.id=id\n",
    "        self.no=no\n",
    "o=B(123,12)\n",
    "o.subject()\n",
    "\n",
    "the major subject is datascience"
   ]
  },
  {
   "cell_type": "markdown",
   "id": "a55431b7",
   "metadata": {},
   "source": [
    "2.Discuss the concept of single inheritance and multiple inheritance, highlighting their\n",
    "differences and advantages.\n",
    "\n",
    "Ans: When a child class inherits from only one parent class, it is called single inheritance.\n",
    "let us consider one example \n",
    "class A:\n",
    "    def __init__(self,name,age):\n",
    "        self.name=name\n",
    "        self.age=age\n",
    "    def subject(self):\n",
    "        print(\"the major subject is datascience\")\n",
    "class B(A):\n",
    "    def __init__(self,id,no):\n",
    "        self.id=id\n",
    "        self.no=no\n",
    "o=B(123,12)\n",
    "o.subject()\n",
    "\n",
    "the major subject is datascience\n",
    "\n",
    "\n",
    "Here we can see that B is inheriting only class A this is called as single inheritance.\n",
    "\n",
    "Multiple Inheritance:\n",
    "\n",
    "When a child class inherits from multiple parent classes, it is called multiple inheritances. \n",
    "\n",
    "let us consider one example\n",
    "\n",
    "class A:\n",
    "    def print1(self):\n",
    "        print(\"This method is from class A\")\n",
    "\n",
    "class B:\n",
    "    def print2(self):\n",
    "        print(\"This method is from class B\")\n",
    "\n",
    "class C(A, B):\n",
    "    def print_method(self):\n",
    "        print(\"This is multilevel inheritance\")\n",
    "o=C()\n",
    "o.print1()\n",
    "o.print2()\n",
    "\n",
    "\n",
    "This method is from class A\n",
    "This method is from class B"
   ]
  },
  {
   "cell_type": "markdown",
   "id": "adbfb209",
   "metadata": {},
   "source": [
    "3.Explain the terms \"base class\" and \"derived class\" in the context of inheritance?\n",
    "\n",
    "Ans: base class is also called as the parent class where as derived class is called as child class usually child class inhrits the parent class\n",
    "\n",
    "example:\n",
    "class vehicle:\n",
    "    def __init__(self,make,model,year):\n",
    "        self.make=make\n",
    "        self.model=model\n",
    "        self.year=year\n",
    "    def model(self):\n",
    "        print(\"the model of the car is \",self.model)\n",
    "class car(vehicle):\n",
    "    def __init__(self,fuel_type,make,model,year):\n",
    "        super().__init__(make,model,year)\n",
    "        self.fuel_type=fuel_type\n",
    "    def properties(self):\n",
    "        print(\"the car model of the car is\",self.model)\n",
    "        print(\"the fuel type of the model is\",self.fuel_type)\n",
    "    def displayinfo(self):\n",
    "        super().model()\n",
    "o=car(\"diesel\",\"A\",\"audi\",\"2023\")\n",
    "o.properties()\n",
    "o.displayinfo()\n",
    "\n",
    "Here car is the child class and vehicle is the parent class\n",
    "\n",
    "\n"
   ]
  },
  {
   "cell_type": "markdown",
   "id": "458cf50a",
   "metadata": {},
   "source": [
    "4.What is the significance of the \"protected\" access modifier in inheritance? How does\n",
    "it differ from \"private\" and \"public\" modifiers?\n",
    "\n",
    "Ans:Public --> The members declared as Public are accessible from outside the Class through an object of the class. \n",
    "Protected --> The members declared as Protected are accessible from outside the class BUT only in a class derived from it. Private --> These members are only accessible from within the class. No outside Access is allowed.\n",
    "\n"
   ]
  },
  {
   "cell_type": "markdown",
   "id": "650d94c0",
   "metadata": {},
   "source": [
    "5.What is the purpose of the \"super\" keyword in inheritance? Provide an example?\n",
    "Ans:We can use super keyword to access the data member or field of parent class. It is used if parent class and child class have same fields. In the above example, Animal and Dog both classes have a common property color. If we print color property, it will print the color of current class by default.\n",
    "\n",
    "for example:\n",
    "\n",
    "class Employee:\n",
    "    def __init__(self,name,salary):\n",
    "        self.name=name\n",
    "        self.salary=salary\n",
    "class manager(Employee):\n",
    "    def __init__(self,department,name,salary):\n",
    "        self.department=department\n",
    "        super().__init__(name,salary)\n",
    "    def print1(self):\n",
    "        print(\"the name of the employee is\",self.name)\n",
    "        print(\"the salary of the employee is\",self.salary)\n",
    "        print('the department of the employee is ',self.department)\n",
    "class developer(Employee):\n",
    "    def __init__(self,programming_language,name,salary):\n",
    "        self.programming_language=programming_language\n",
    "        super().__init__(name,salary)\n",
    "    def print2(self):\n",
    "        print(\"the name of the employee is\",self.name)\n",
    "        print(\"the salary of the employee is\",self.salary)\n",
    "        print('the department of the employee is ',self.programming_language)\n",
    "        \n",
    "Here we are using super() keyword to accesse the members of the Employee class\n"
   ]
  },
  {
   "cell_type": "code",
   "execution_count": 22,
   "id": "c7e9148b",
   "metadata": {},
   "outputs": [
    {
     "name": "stdout",
     "output_type": "stream",
     "text": [
      "the car model of the car is audi\n",
      "the fuel type of the model is diesel\n",
      "the model of the car is  audi\n"
     ]
    }
   ],
   "source": [
    "\"\"\"6. Create a base class called \"Vehicle\" with attributes like \"make\", \"model\", and \"year\".\n",
    "Then, create a derived class called \"Car\" that inherits from \"Vehicle\" and adds an\n",
    "attribute called \"fuel_type\". Implement appropriate methods in both classes.\"\"\"\n",
    "\n",
    "\n",
    "class vehicle:\n",
    "    def __init__(self,make,model,year):\n",
    "        self.make=make\n",
    "        self.model=model\n",
    "        self.year=year\n",
    "    def model(self):\n",
    "        print(\"the model of the car is \",self.model)\n",
    "class car(vehicle):\n",
    "    def __init__(self,fuel_type,make,model,year):\n",
    "        super().__init__(make,model,year)\n",
    "        self.fuel_type=fuel_type\n",
    "    def properties(self):\n",
    "        print(\"the car model of the car is\",self.model)\n",
    "        print(\"the fuel type of the model is\",self.fuel_type)\n",
    "    def displayinfo(self):\n",
    "        super().model()\n",
    "o=car(\"diesel\",\"A\",\"audi\",\"2023\")\n",
    "o.properties()\n",
    "o.displayinfo()\n",
    "\n"
   ]
  },
  {
   "cell_type": "code",
   "execution_count": 24,
   "id": "897f8132",
   "metadata": {},
   "outputs": [],
   "source": [
    "\"\"\"7. Create a base class called \"Employee\" with attributes like \"name\" and \"salary.\"\n",
    "Derive two classes, \"Manager\" and \"Developer,\" from \"Employee.\" Add an additional\n",
    "attribute called \"department\" for the \"Manager\" class and \"programming_language\"\n",
    "for the \"Developer\" class.\"\"\"\n",
    "\n",
    "class Employee:\n",
    "    def __init__(self,name,salary):\n",
    "        self.name=name\n",
    "        self.salary=salary\n",
    "class manager(Employee):\n",
    "    def __init__(self,department,name,salary):\n",
    "        self.department=department\n",
    "        super().__init__(name,salary)\n",
    "    def print1(self):\n",
    "        print(\"the name of the employee is\",self.name)\n",
    "        print(\"the salary of the employee is\",self.salary)\n",
    "        print('the department of the employee is ',self.department)\n",
    "class developer(Employee):\n",
    "    def __init__(self,programming_language,name,salary):\n",
    "        self.programming_language=programming_language\n",
    "        super().__init__(name,salary)\n",
    "    def print2(self):\n",
    "        print(\"the name of the employee is\",self.name)\n",
    "        print(\"the salary of the employee is\",self.salary)\n",
    "        print('the department of the employee is ',self.programming_language)\n",
    "        \n",
    "\n",
    "        "
   ]
  },
  {
   "cell_type": "code",
   "execution_count": 26,
   "id": "1e5e0abf",
   "metadata": {},
   "outputs": [
    {
     "name": "stdout",
     "output_type": "stream",
     "text": [
      "the name of the employee is nandu\n",
      "the salary of the employee is 200000\n",
      "the department of the employee is  ds\n",
      "the name of the employee is nandu\n",
      "the salary of the employee is 200000\n",
      "the department of the employee is  python\n"
     ]
    }
   ],
   "source": [
    "o=manager(\"ds\",\"nandu\",200000)\n",
    "o.print1()\n",
    "p=developer(\"python\",\"nandu\",200000)\n",
    "p.print2()"
   ]
  },
  {
   "cell_type": "code",
   "execution_count": 10,
   "id": "7ad817af",
   "metadata": {},
   "outputs": [
    {
     "name": "stdout",
     "output_type": "stream",
     "text": [
      "the area of the rectangle is  120\n"
     ]
    }
   ],
   "source": [
    "\"\"\"8. Design a base class called \"Shape\" with attributes like \"colour\" and \"border_width.\"\n",
    "Create derived classes, \"Rectangle\" and \"Circle,\" that inherit from \"Shape\" and add\n",
    "specific attributes like \"length\" and \"width\" for the \"Rectangle\" class and \"radius\" for\n",
    "the \"Circle\" class.\"\"\"\n",
    "\n",
    "class shape:\n",
    "    def __init__(self,colour,border_width):\n",
    "        self.colour=colour\n",
    "        self.border_width=border_width\n",
    "class rectangle(shape):\n",
    "    def __init__(self,length,width,colour,border_width):\n",
    "        super().__init__(colour,border_width)\n",
    "        self.length=length\n",
    "        self.width=width\n",
    "    def Area(self):\n",
    "        print(\"the area of the rectangle is \",self.length*self.width)\n",
    "class circle(shape):\n",
    "    def __init__(self,radius,colour,border_width):\n",
    "        super().__init__(colour,border_width)\n",
    "        self.radius=radius\n",
    "\n",
    "            \n",
    "o=rectangle(12,10,\"white\",1)\n",
    "o.Area()\n",
    "    \n",
    "        \n",
    "        "
   ]
  },
  {
   "cell_type": "code",
   "execution_count": 13,
   "id": "8e0dd199",
   "metadata": {},
   "outputs": [],
   "source": [
    "\"\"\"9. Create a base class called \"Device\" with attributes like \"brand\" and \"model.\" Derive\n",
    "two classes, \"Phone\" and \"Tablet,\" from \"Device.\" Add specific attributes like\n",
    "\"screen_size\" for the \"Phone\" class and \"battery_capacity\" for the \"Tablet\" class.\"\"\"\n",
    "\n",
    "class device:\n",
    "    def __init__(self,brand,model):\n",
    "        self.brand=brand\n",
    "        self.model=model\n",
    "class phone(device):\n",
    "    def __init__(self,screen_size,brand,model):\n",
    "        super().__init__(brand,model)\n",
    "        self.screen_size=screen_size\n",
    "class tablet(device):\n",
    "    def __init__(self,battery_capacity,brand,model):\n",
    "        super().__init__(brand,model)\n",
    "        self.battery_capacity=battery_capacity\n",
    "\n"
   ]
  },
  {
   "cell_type": "code",
   "execution_count": 17,
   "id": "73a8d72b",
   "metadata": {},
   "outputs": [
    {
     "name": "stdout",
     "output_type": "stream",
     "text": [
      "this method calculates the interest generated\n",
      "this method deducts the fees from account\n"
     ]
    }
   ],
   "source": [
    "\"\"\"10. Create a base class called \"BankAccount\" with attributes like \"account_number\" and\n",
    "\"balance.\" Derive two classes, \"SavingsAccount\" and \"CheckingAccount,\" from\n",
    "\"BankAccount.\" Add specific methods like \"calculate_interest\" for the\n",
    "\"SavingsAccount\" class and \"deduct_fees\" for the \"CheckingAccount\" class.\"\"\"\n",
    "\n",
    "class BankAccount:\n",
    "    def __init__(self,account_number,balance):\n",
    "        self.account_number=account_number\n",
    "        self.balance=balance\n",
    "class savingsAccount(BankAccount):\n",
    "    def __init__(self,account_number,balance):\n",
    "        super().__init__(account_number,balance)\n",
    "    def calculate_interest(self):\n",
    "        print(\"this method calculates the interest generated\")\n",
    "class checkingAcount(BankAccount):\n",
    "    def __init__(self,account_number,balance):\n",
    "        super().__init__(account_number,balance)\n",
    "    def deduct_fees(self):\n",
    "        print('this method deducts the fees from account')\n",
    "o=savingsAccount(\"123\",12345)\n",
    "o.calculate_interest()\n",
    "o1=checkingAcount(\"123\",123456)\n",
    "o1.deduct_fees()\n",
    "\n",
    "    "
   ]
  },
  {
   "cell_type": "code",
   "execution_count": null,
   "id": "abc40398",
   "metadata": {},
   "outputs": [],
   "source": []
  }
 ],
 "metadata": {
  "kernelspec": {
   "display_name": "Python 3 (ipykernel)",
   "language": "python",
   "name": "python3"
  },
  "language_info": {
   "codemirror_mode": {
    "name": "ipython",
    "version": 3
   },
   "file_extension": ".py",
   "mimetype": "text/x-python",
   "name": "python",
   "nbconvert_exporter": "python",
   "pygments_lexer": "ipython3",
   "version": "3.10.9"
  }
 },
 "nbformat": 4,
 "nbformat_minor": 5
}
